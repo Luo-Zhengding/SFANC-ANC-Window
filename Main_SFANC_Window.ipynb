{
 "cells": [
  {
   "cell_type": "code",
   "execution_count": null,
   "id": "10d793cb",
   "metadata": {},
   "outputs": [],
   "source": [
    "# Refer to the paper 'Real-time implementation and explainable AI analysis of delayless CNN-based selective fixed-filter active noise control'\n",
    "# Before running the code, you need to have a computer microphone and real-time controller.\n",
    "\n",
    "from Acquired_sound import AudioRecorder\n",
    "from UDP_pxie_connector import UDP_sender\n",
    " \n",
    "import warnings\n",
    "warnings.filterwarnings(\"ignore\")\n",
    "\n",
    "\n",
    "ID1 = 0 # initial ID\n",
    "# Pass ID to PXIE (real-time controller)\n",
    "Ipaddress = \"192.168.1.103\" # !!! PXIE IP\n",
    "Port = 61557  # !!! PXIE Port\n",
    "UDP_connection = UDP_sender(Ipaddress, Port)\n",
    "UDP_connection.send_message(text=str(ID1))\n",
    "print(\"The ID of initial control filter is:\", ID1)\n",
    "\n",
    "\n",
    "while True:\n",
    "    recorder = AudioRecorder(seconds=1)\n",
    "    ID = recorder.record(\"output.wav\")\n",
    "    \n",
    "    if ID != ID1: # If the filter index changes, pass it to PIXE\n",
    "        ID1 = ID\n",
    "        print(\"The ID of selected control filter is:\", ID1)\n",
    "        UDP_connection.send_message(text=str(ID1))"
   ]
  }
 ],
 "metadata": {
  "kernelspec": {
   "display_name": "Python 3 (ipykernel)",
   "language": "python",
   "name": "python3"
  },
  "language_info": {
   "codemirror_mode": {
    "name": "ipython",
    "version": 3
   },
   "file_extension": ".py",
   "mimetype": "text/x-python",
   "name": "python",
   "nbconvert_exporter": "python",
   "pygments_lexer": "ipython3",
   "version": "3.9.7"
  }
 },
 "nbformat": 4,
 "nbformat_minor": 5
}
